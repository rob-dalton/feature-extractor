{
 "cells": [
  {
   "cell_type": "markdown",
   "metadata": {},
   "source": [
    "# Development: PMI\n",
    "<b>8/7/2018</b>\n",
    "<hr>\n",
    "Space to develop PMI implementation for feature extraction example.\n",
    "\n",
    "## Load Sample Data"
   ]
  },
  {
   "cell_type": "code",
   "execution_count": 1,
   "metadata": {},
   "outputs": [
    {
     "name": "stderr",
     "output_type": "stream",
     "text": [
      "/Users/robertdalton/virtualenvs/feature-extractor/lib/python3.6/importlib/_bootstrap.py:219: RuntimeWarning: numpy.dtype size changed, may indicate binary incompatibility. Expected 96, got 88\n",
      "  return f(*args, **kwds)\n"
     ]
    }
   ],
   "source": [
    "import pandas as pd\n",
    "from pymongo import MongoClient"
   ]
  },
  {
   "cell_type": "code",
   "execution_count": 3,
   "metadata": {
    "collapsed": true
   },
   "outputs": [],
   "source": [
    "# get mongodb collections\n",
    "client = MongoClient()\n",
    "\n",
    "reviews = client.amazon_reviews.reviews\n",
    "metadata = client.amazon_reviews.metadata"
   ]
  },
  {
   "cell_type": "code",
   "execution_count": 11,
   "metadata": {},
   "outputs": [
    {
     "name": "stdout",
     "output_type": "stream",
     "text": [
      "13272\n",
      "30000\n"
     ]
    }
   ],
   "source": [
    "# check collections connected\n",
    "print(reviews.estimated_document_count())\n",
    "print(metadata.estimated_document_count())"
   ]
  },
  {
   "cell_type": "markdown",
   "metadata": {},
   "source": [
    "## Examine Reviews"
   ]
  },
  {
   "cell_type": "code",
   "execution_count": 12,
   "metadata": {
    "collapsed": true
   },
   "outputs": [],
   "source": [
    "test = reviews.find_one()\n",
    "test"
   ]
  },
  {
   "cell_type": "code",
   "execution_count": null,
   "metadata": {
    "collapsed": true
   },
   "outputs": [],
   "source": [
    "# get sample of reviews\n",
    "sample_reviews = [review for review in reviews.find(limit=100)]"
   ]
  },
  {
   "cell_type": "code",
   "execution_count": null,
   "metadata": {
    "collapsed": true
   },
   "outputs": [],
   "source": [
    "def print_reviews(reviews)\n",
    "    for r in reviews:\n",
    "        print(r['reviewText'])\n",
    "        print('--------------------')"
   ]
  },
  {
   "cell_type": "code",
   "execution_count": null,
   "metadata": {
    "collapsed": true
   },
   "outputs": [],
   "source": [
    "print_reviews(sample_reviews)"
   ]
  },
  {
   "cell_type": "markdown",
   "metadata": {},
   "source": [
    "## Create Occurance Matrix, Vocabulary"
   ]
  },
  {
   "cell_type": "code",
   "execution_count": 139,
   "metadata": {},
   "outputs": [],
   "source": [
    "import math\n",
    "import numpy as np\n",
    "from sklearn.feature_extraction.text import CountVectorizer"
   ]
  },
  {
   "cell_type": "code",
   "execution_count": 98,
   "metadata": {
    "collapsed": true
   },
   "outputs": [],
   "source": [
    "# create count vectorizer\n",
    "count_vectorizer = CountVectorizer(decode_error='ignore',\n",
    "                                   stop_words='english',\n",
    "                                   binary=True,\n",
    "                                   min_df=0.05)"
   ]
  },
  {
   "cell_type": "code",
   "execution_count": 159,
   "metadata": {},
   "outputs": [],
   "source": [
    "# create occurance matrix, corpus vocabulary\n",
    "# NOTE: occurance matrix is term-document (rows are terms, columns are docs)\n",
    "occurrence_matrix = count_vectorizer.fit_transform((review['reviewText'] for review in sample_reviews)).transpose()\n",
    "vocab = count_vectorizer.get_feature_names()"
   ]
  },
  {
   "cell_type": "markdown",
   "metadata": {},
   "source": [
    "## Find PMI for Word"
   ]
  },
  {
   "cell_type": "code",
   "execution_count": 160,
   "metadata": {},
   "outputs": [],
   "source": [
    "def get_vocab_index(word, vocab):\n",
    "    for i, w in enumerate(vocab):\n",
    "        if w == word:\n",
    "            return i\n",
    "\n",
    "def count_occurrences(word, vocab, occurrence_matrix):\n",
    "    \"\"\" Count number of documents that contain word \"\"\"\n",
    "    i = get_vocab_index(word, vocab)\n",
    "    if i is None:\n",
    "        return 0\n",
    "    else:\n",
    "        return np.sum(occurrence_matrix[i])\n",
    "\n",
    "def count_co_occurrences(word1, word2, vocab, occurrence_matrix):\n",
    "    \"\"\" Count number of documents that contain word1 and word2 \"\"\"\n",
    "    \n",
    "    # get vocab indices\n",
    "    i_word1 = get_vocab_index(word1, vocab)\n",
    "    i_word2 = get_vocab_index(word2, vocab)\n",
    "    \n",
    "    # get co_occurrence_vector, return sum\n",
    "    if i_word1 and i_word2:\n",
    "        co_occurrence_vector = np.multiply(occurrence_matrix[i_word1],\n",
    "                                           occurrence_matrix[i_word2].transpose())\n",
    "        return np.sum(co_occurrence_vector)\n",
    "    \n",
    "    return 0"
   ]
  },
  {
   "cell_type": "code",
   "execution_count": 166,
   "metadata": {},
   "outputs": [],
   "source": [
    "def pmi(word1, word2, vocab, occurance_matrix):\n",
    "    \"\"\" Get PMI of word1 and word2 \"\"\"\n",
    "    num_docs = occurrence_matrix.shape[1]\n",
    "    \n",
    "    # find P(word1)\n",
    "    p_word1 = count_occurrences(word1, vocab, occurrence_matrix) / num_docs\n",
    "    p_word2 = count_occurrences(word2, vocab, occurrence_matrix) / num_docs\n",
    "    \n",
    "    # find P(word1 and word2)\n",
    "    p_joint = count_co_occurrences(word1, word2, vocab, occurrence_matrix) / num_docs\n",
    "    if p_joint == 0:\n",
    "        # NOTE: This assumes a base occurrence frequency of 1 in order to not break the PMI equation\n",
    "        p_joint = 1 / num_docs\n",
    "    \n",
    "    return math.log(p_joint / (p_word1 * p_word2))"
   ]
  },
  {
   "cell_type": "code",
   "execution_count": 169,
   "metadata": {},
   "outputs": [
    {
     "data": {
      "text/plain": [
       "0.010050335853501506"
      ]
     },
     "execution_count": 169,
     "metadata": {},
     "output_type": "execute_result"
    }
   ],
   "source": [
    "pmi('spool', 'best', vocab, occurrence_matrix)"
   ]
  },
  {
   "cell_type": "markdown",
   "metadata": {},
   "source": [
    "## Conclusions\n",
    "We have a successful PMI prototype! Let's port it over to a `Polarizer` class to prep for production."
   ]
  },
  {
   "cell_type": "code",
   "execution_count": null,
   "metadata": {
    "collapsed": true
   },
   "outputs": [],
   "source": []
  }
 ],
 "metadata": {
  "kernelspec": {
   "display_name": "feature-extractor",
   "language": "python",
   "name": "feature-extractor"
  },
  "language_info": {
   "codemirror_mode": {
    "name": "ipython",
    "version": 3
   },
   "file_extension": ".py",
   "mimetype": "text/x-python",
   "name": "python",
   "nbconvert_exporter": "python",
   "pygments_lexer": "ipython3",
   "version": "3.6.3"
  }
 },
 "nbformat": 4,
 "nbformat_minor": 2
}
