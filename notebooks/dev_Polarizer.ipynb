{
 "cells": [
  {
   "cell_type": "markdown",
   "metadata": {},
   "source": [
    "# Development: Polarizer Class\n",
    "<b>8/7/2018</b>\n",
    "<hr>\n",
    "Space to develop and test basic functionality of `Polarizer` class.\n",
    "\n",
    "## Load Sample Data"
   ]
  },
  {
   "cell_type": "code",
   "execution_count": 4,
   "metadata": {
    "collapsed": true
   },
   "outputs": [],
   "source": [
    "from pymongo import MongoClient"
   ]
  },
  {
   "cell_type": "code",
   "execution_count": 5,
   "metadata": {
    "collapsed": true
   },
   "outputs": [],
   "source": [
    "# get mongodb collections\n",
    "client = MongoClient()\n",
    "\n",
    "reviews = client.amazon_reviews.reviews\n",
    "metadata = client.amazon_reviews.metadata"
   ]
  },
  {
   "cell_type": "code",
   "execution_count": 7,
   "metadata": {},
   "outputs": [
    {
     "name": "stdout",
     "output_type": "stream",
     "text": [
      "13272\n",
      "30000\n"
     ]
    }
   ],
   "source": [
    "# check collections connected\n",
    "print(reviews.estimated_document_count())\n",
    "print(metadata.estimated_document_count())"
   ]
  },
  {
   "cell_type": "markdown",
   "metadata": {},
   "source": [
    "## Examine Reviews"
   ]
  },
  {
   "cell_type": "code",
   "execution_count": 8,
   "metadata": {},
   "outputs": [
    {
     "data": {
      "text/plain": [
       "{'_id': ObjectId('5b71de31201fd5bb2b0ad8fb'),\n",
       " 'reviewerID': 'A2QK7UNJ857YG',\n",
       " 'asin': 'B00002N674',\n",
       " 'reviewerName': 'Jason',\n",
       " 'helpful': [0, 0],\n",
       " 'reviewText': \"I probably should have bought something a bit more flexible and less rugged since I constantly coil/uncoil it for washing cars, but that's my fault not a product fault.\",\n",
       " 'overall': 5.0,\n",
       " 'summary': 'Very high quality',\n",
       " 'unixReviewTime': 1373846400,\n",
       " 'reviewTime': '07 15, 2013'}"
      ]
     },
     "execution_count": 8,
     "metadata": {},
     "output_type": "execute_result"
    }
   ],
   "source": [
    "test = reviews.find_one()\n",
    "test"
   ]
  },
  {
   "cell_type": "code",
   "execution_count": 9,
   "metadata": {
    "collapsed": true
   },
   "outputs": [],
   "source": [
    "# get sample of reviews\n",
    "# NOTE: Changes every time it's run. May affect notes below.\n",
    "sample_reviews = [review for review in reviews.find(limit=100)]"
   ]
  },
  {
   "cell_type": "code",
   "execution_count": 10,
   "metadata": {
    "collapsed": true
   },
   "outputs": [],
   "source": [
    "def print_reviews(reviews):\n",
    "    for r in reviews:\n",
    "        print(r['reviewText'])\n",
    "        print('--------------------')"
   ]
  },
  {
   "cell_type": "code",
   "execution_count": 11,
   "metadata": {},
   "outputs": [
    {
     "name": "stdout",
     "output_type": "stream",
     "text": [
      "I probably should have bought something a bit more flexible and less rugged since I constantly coil/uncoil it for washing cars, but that's my fault not a product fault.\n",
      "--------------------\n",
      "This is a high quality 8 ply hose. I have had good luck with Gilmour hoses in the past. A good choice in hoses.\n",
      "--------------------\n",
      "Good USA company that stands behind their products. I have had to warranty two hoses and they send replacements right out to you. I had one burst after awhile, you could see it buldge for weeks before it went so no suprises. The other one was winter related as I am bad and leave them out most of the time. Highly reccomend. Note the hundred footer is heavy and like wresting an anaconda when its time to put away, but it does have a far reach.\n",
      "--------------------\n",
      "I'll buy more of these come  Spring. Holding up very well to the extreme heat and cold of Idaho.  A bit on the heavy side, but that is what makes them last so well.\n",
      "--------------------\n",
      "So far so good! I have not really had the time to test out the hose as it is cold weather time right now. I bought this Gilmour hose based on all the recommendations. I am looking forward to not having to wrestle the hose to use it.\n",
      "--------------------\n",
      "This is a good quality hose that I use to connect to my &#34;Scarecrow&#34; so as to keep the deer away from my plants. It sits in the sun all day long and so far shows no sign of degradation.\n",
      "--------------------\n",
      "I bought three of these 5/8-inch Flexogen hoses--50, 75, and 100 feet--for different areas of yard around the house.  After a season of use they've proven to be good hoses.  Of course, it's very favorable that they don't leak.  But what particularly impresses me about them is their notably light weight and flexibility, which make them a lot easier to handle than my previous hoses.  The flexibility diminishes in cold weather, but a garden hose is less useful then anyway.They're not especially prone to kinking, but they're not kink-proof, either, nor do they claim to be.  They kink a lot less than one of my old hoses and more than a couple of others, but the latter were fairly stiff, so there was a trade-off.Bottom line:  this was a good purchase.\n",
      "--------------------\n",
      "After using this hose I will never go back to small diameter garden hoses.  The water flows with much more force, which is especially useful when using the jet nozzle.  Most garden hoses are only 1/2\" diameter, and some premium hoses are 5/8\", but this is 3/4\".There is a significant water pressure loss with regular hoses because the smaller diameter means that more of the water is in contact with the walls, plus it flows at higher velocity further increasing the friction.  You'd be amazed looking at the charts, just how much pressure is lost with the cheap standard hoses.  For example:I'm looking at a plastic pipe friction head loss chart.  At 5 gallons per minute, the pressure friction head loss per 100 ft is 5.3 ft for a 3/4\" pipe (same size as this hose).  For a 1/2\" (regular hose size) pipe the head loss is 20.7 ft - that's 4x less height that the water can travel merely because of friction from the smaller inside diameter!I also noticed, this hose also has less tendency to kink.\n",
      "--------------------\n",
      "Hey Gilmore I have been buying your hoses for years and only your hoses. You stand behind your product and provide great customer support..  But I am only giving you 4 stars  because this hose and the 100 footer I bought  a few months back seem to kink more than my older Flexogens not sure why ?\n",
      "--------------------\n",
      "This is one tough hose and it is thick and stiff.The connections are strong and the hose is industrial strength.I bought this to use with my pressure washer because it is 8 ply and 3/4 inch wide.My old hose was just rubber and it was flexing and twisting and there is no way this hose is going to do that.The hose is warrantied for life and unless there is a problem with a leak i don't think i will ever need to use it.The local big box stores do not sell a 3/4 50 foot hose and my pressure washer will not operate with anything longer than 50 feet.The price and delivery were great and Amazon is the best around if there is ever a concern.\n",
      "--------------------\n",
      "I bought a cheap hose that didn't hold the pressure after 2 days.  This bad boy hold the pressure and doesn't leak.  Its not even expanding.  Great quality hose.  I will be keeping them in mind when I need more length.\n",
      "--------------------\n",
      "It's probably one of the best hoses I've ever had.Pro's:- It's good enough for most front yards, or small back yards.- It has enough flow (and with the right head) to water plants 25ft away from the nozzle, and water your garden.- It's light weight, and flexible (it does not pose as much of a problem unrolling this hose with kinks as with other hoses I've owned)- The hose is flexible, yet strong. I haven't cut the outside yet.- This hose has been in full sunlight for more than 3 months, and the rubber hasn't cracked yet! I believe it's good quality rubber.cons:- Like with every hose, keeping it outside in the sunshine, the water warms up and starts smelling.My dog don't want to drink from the water coming from this hose.- The hose is only in one color (I wished it was a little less visible in the gardenOtherwise this hose is an excellent garden tool!I bought 2 of them, one 25ft for my front garden, and 50ft for my rear garden.3-4months and still in excellent condition!\n",
      "--------------------\n",
      "I was worried about getting a short one, but this serves my need just fine, as it accompanied by a longer and more troublesome one.  I leave the sprinkler on it instead of switching heads - so much easier.  slightly stiff to lay out, but if it weren't, I am sure it would kink.  I got it with the gilmore brass 2-way hose connector - an excellent pair for me\n",
      "--------------------\n",
      "For everything I need for my lawn and garden work I try to find a Gilmour product.  They just can't be beat for the price and/or guarantee.  This hose is typical of a Gilmour item.  It is a strong and supple hose and like most other Gilmour products, comes with a lifetime guarantee.  I have cut hoses with my mower and they still replace them.  Quite a company!\n",
      "--------------------\n",
      "It's been outside in the hot (South Florida) sunshine 24/7, and still flexible. No crackles, and remains in great shape!A real bargain!\n",
      "--------------------\n",
      "I've always been one of those people that bought the cheapest kind of hose whenever I needed one.  I don't do much in the way of gardening, nor wash my car that often.  So investing in a really good quality hose didn't make that sense to me.  The only flaw in that logic is cheap hoses have a habit of breaking and leaking just sitting there on the reel, whether you use them or not.  So in the long run you don't save much.  That, and the fact that cheap hoses also make you feel like you are wrestling a snake when using them for they are so stiff and kink like crazy.  When I decided to buy a better hose I came across this one and liked it immediately.  It's very well made and just about as flexible a hose you can buy without going for one of those new fangled shrinking hoses.  (I'm not sold on the long term quality of those).  This thing is a pleasure to use, as well as making it much simpler a task of rolling it up when you're done.  It kinda reminds me of what my cheap hose felt like when it was sitting out stretched in the sun for a while.  It would feel much softer and more flexible.  Something this does with or without sun.  Though its true that getting that flexibility carries with it a little more weight in the hose itself, its such a pleasure to use that I feel the trade off is well worth it.  It only takes a short time to get used to it being a little heavier anyway, and I love being able to roll it up on the reel when done so easily.  A top notch hose that carries a generous amount of quality, convenience, all for a fair price that I highly recommend... : )\n",
      "--------------------\n",
      "I aqm impressed with the cost and quality of this product, Also impressed on the fast shipment by Amazon as I received it in 4 days, Has not kinked and a great hose as I had one before which I left in the yard during all seasons and even ran across driveway, But it lasted 5 good years through all the abuse,  I would recommend this to anyone, Thanks\n",
      "--------------------\n",
      "This little hose was purchased to add on to my other 50 foot hose due to the very humid and oppressive weather this last month in the Northeast.  It is very flexible and easy to handle and allows me total reach of the back perennial garden.  i would recommend this hose\n",
      "--------------------\n",
      "I am very happy that I bought this nozzle. It is exactly what I wanted. Good quality and I highly recommend it. I really need it too.\n",
      "--------------------\n",
      "I have bought many types of nozzle over the years and this old timer which I used to use when I was growing up served me well this past season.\n",
      "--------------------\n",
      "This is definitely a good quality nozzle. It is similar to the &#34;old fashioned&#34; type nozzle we had as kids. It gives differing spray patterns depending on how far you squeeze the trigger.\n",
      "--------------------\n",
      "There is only one thing wrong with this design:  the spray shape and the water volume can not be controlled independently. Better designs have one control for open-closed and another for spray shape. That makes this nozzle useless for filling buckets and other close applications. It is impossible to get high volume at low pressure output.That said, the simple design is almost bomb-proof and the price is fair.\n",
      "--------------------\n",
      "I've been in the Landscape Industry for over 60 years and have owned my own company for 23 years. One of the odder phenomenons I've experienced is that client's will spend $1,000 on a garden sculpture or $100 for a bottle of wine for a garden party but then they turn into Scrooge McDuck when it comes to sinking ANY SUM OF MONEY into the items required to properly care for the garden!Gimmicks abound in any industry but it seems that in the Green Industry, a Fool and Their Money is Guaranteed to Be Parted! Curly hoses, shrinky hoses, pink & purple hoses...the very item that delivers Life Giving Water is dismissed and ignored and people insist on spending the LEAST amount of money on a hose. Aside from the very important matter of a hose needing double walls to withstand the constant P.S.I. (pounds per square inch), a good hose also needs to have solid brass couplings, and have enough plys to avoid kinking.THIS hose delivers! Yes, there is heft to it's weight...that's what you NEED from a quality hose! And, it refuses to kink, even when you try to kink it as a test. I've bought Gilmour hoses for clients and my own company's use for over 17 years and NEVER needed to replace a single one! The 25 foot length is excellent to extend a longer hose for occasional use, rather than dragging that extra length around your property 24/7. Also, for very small Urban Gardens, rarely do you need more than 15 feet of hose so the 25' length is perfect for city gardens or roof top decks.Here are some tips from someone that works for a living with garden hoses:1) Use a cheap rope that you pick up at the Dollar Store to get the MAXIMUM LENGTH of hose you need. Mark that length down. Then, using the same rope, measure the NORMAL LENGTH that you will need on a daily/weekly basis. If the difference is more than 10 feet, BUY TWO OR MORE HOSES! Yes, I know that sounds insane but hear me out.If on a daily basis, you only need a 50' hose to reach your 40' garden, WHY are you buying a 100' hose to drag around? If you only need that additional 25 or 50 feet for the few times you wash your car or windows or fill a pool, buy some quick-connects and the extention hose length that you'll only use rarely. Hoses come in 10', 25', 50', 75', 100' and 150' length; ONLY buy the shortest length you need 90% of the time and then an additional hose to attach when needed.2) To coil your hose easily whether you store it on the ground or on a hose wheel, turn OFF THE WATER and keep the nozzle OPEN to drain the pounds and pounds of water that are trapped inside the hose! If you hate getting dirty hands, use garden gloves to coil it up and using the natural curl of the hose, just continue to coil it, turning the hose as needed.3) During the Summer, attach a PLASTIC SHUT OFF VALVE to both ends of the hose: the one connected to your home's spigot and also to the nozzle of choice. WHY? Because plastic does NOT corrode like any metal will do and if you have high minerals in your water, there are times that the hose coupling will actually become permanently corroded to the spigot or nozzle, making it completely impossible to remove! I know that we're taught that Metal=Good and Plastic=Bad but trust me...when I have to tell a client that they either need to replace a $70 hose or hire a plumber to remove a sealed/corroded coupling, that $2 dollar plastic gate valve becomes priceless!4) ALWAYS DRAIN YOUR HOSE, DETACH THE GATE VALVES AND STORE YOUR HOSE, VALVES AND NOZZLE IN A FREEZE-PROOF AREA!!! If I don't do it for my client's and trust them to do it, it never gets done. And after the first hard frost, trapped water in nozzles, hoses and valves expands and can destroy all of the above in one night. It takes less than 30 minutes to winterize two hoses and attachments; figure out the cost of replacing everything in Spring when you find them all destroyed!5) One of the best ways to RUIN ANY HOSE, is to tug-tug-tug at the coupling, which breaks the weld and suddenly you have a leak that can't be fixed! I simply make a small loop in the end that attachs to the house which acts as a \"brake\" and takes the pressure off of the coupling and spigot.I only recommend landscape items that I trust to use with all my employees and on all my jobs. When I gain new clients, I teach them the benefits of a good hose and order it for them, never having to do it again. Buy one less bottle of good wine and use that cash for your hose. You won't be sorry! :)\n",
      "--------------------\n",
      "This is a nice hose nozzle - simple design, sturdily made and inexpensive. It can go from high-powered jet mode to gently spray just by loosening your grip. It also doesn't leak at all where it attaches to the hose!My only gripe would be that when you use the widest spray pattern, it can come out unevenly &#8211;e.g., it's not an even &#34;circle&#34; of water coming out, which makes watering evenly a little challenging. But it's not a big deal.Get one, you'll like it.\n",
      "--------------------\n",
      "It looks like it came right out of an episode of Leave It To Beaver but don't be fooled by this retro-looking nozzle. This feels great in my hand and functions way better than the plethora of nozzles I have tried in the past. The trigger has a real nice, snappy, feel to it.Unlike my other nozzles that are made from plastic, I actually think this will survive a winter outdoors in PA. The only thing I have to get used to is that the type of spray is determined by the pressure I apply on the trigger. Everything else about it is perfect.\n",
      "--------------------\n",
      "I've tried all sorts of nozzles for my hose and they either break, get stuck on the end of the hose, or don't have enough power to really blast things with water. This nozzle is durable, easy to remove, and super strong!\n",
      "--------------------\n",
      "metal too soft, its all wore out after light use, the thread on front already smooth out.lots rust on the back puller/handle part, need something with better material, rather buy once and be done with it for many year.\n",
      "--------------------\n",
      "I've always bought cheap sprinklers that would ineffectively water the lawn and me, too. It killed me to spend so much on a sprinkler, but I've probably sunk so much on junk sprinklers in the past 10 years and bit the bullet after reading the reviews for the Raintrain. Convenience alone makes this sprinkler really attractive, but it does a good job and that is a real draw.Operation is easy. Extend the garden hose where you want to water as the hose is the 'track' that the Raintrain runs on. By adjusting the time and the pressure you essentially control where you water and the degree of water used. Then sit back and enjoy as  the Raintree does the work.  No more moving the sprinkler or possibly getting showered. It doesn't get much simpler.The spray is low and slow so everything gets watered more effectively and there is less evaporation. My lawn really looks better than it had when I used my old sprinkler.I use this in my garden  and it does a good job keeping all my perennials and herbs staying healthy and lush.This sprinkler is well made and worth the higher than average price.\n",
      "--------------------\n",
      "There are some positive features about the Nelson Raintree Traveling Sprinkler that makes is an excellent sprinkler, and a good one to have if one has a large lawn. It's definitely sturdily built, and with a steel body, it appears nearly indestructible. Because it's a &#34;traveling&#34; sprinkler, once you have it set and have placed the hose in the middle of the track you want it to cover, it will move on its own and give a wide area of lawn a thorough sprinkling. One doesn't have to run out every little while to move the sprinkler so that it can water another patch of ground. Also, there's a little ramp you can run the hose through so that when the sprinkler has completed its intended course it reaches the ramp and shuts off on its own. This is particularly useful if you're not going to be around to monitor it.Now, a couple less positive features. First, this is an appropriate sprinkler only for those parts of the lawn that are relatively wide open and devoid of obstacles. We have a number of large trees in both our front and back yards. Also, we have tree rings and the like, which mean that parts of our lawn are isolated from the rest. We need a second sprinkler to cover these parts. So, buy this only if you have a large enough amount of open space to make having one worthwhile.Second, it is a very heavy sprinkler. I realize that this is the price one pays for a large metal object. But if you want a light-weight piece of equipment, this isn't it.\n",
      "--------------------\n",
      "Nozzles exactly like this have been around for at least 40 years--manufactured in a dozen companies--and sold under a wide variety of brand names---for a very good reason---they are the best design.  They are perfectly and easily controllable, durable, and don't leak.  You can get \"prettier\" versions with plastic covers over the grip and plastic handles, if \"pretty\" is your priority---but, functionally speaking, you can't buy a better designed garden hose nozzle.THUMB SCREWNote the little thumb screw at the end of the piston can be used to adjust the type of spray when the handle is maximally squeezed.  If you wish, you can tighten the screw (you may need pliers to do so, and/or you may need to grease the screw threads) back from full unfocused flow to the tightest stream for long throws---that makes long throws a little easier.LOCK-ON LOOPNotice the small wire loop at top---when the lever is complete depressed, you can rotate the loop back to prevent the lever from closing, and then you can release your grip.  So, this is a \"lock on\" device, which becomes particularly useful when you use the brass screw to adjust to the pattern you want.  For example, if you always want a medium cone spray, you can adjust the sprayer semi-permanently to that setting.NOT A VALVEOne reviewer complains that there is no \"medium\" strength, e.g., for filling buckets.  What do you expect?  The actual \"problem\", as far as that reviewer was concerned, is the nozzle is \"too good\"---it delivers full pressure, at all but the tightest mist setting.  Although it does have a \"closed\" position, this is a nozzle, NOT a valve. If you want a VALVE to reduce the PRESSURE, then install aMelnor 390S Hose Shut-Offor aGilmour Brass Garden Hose Connector With Shut-Off Valve 03Vjust before the nozzle.  Or, close your faucet part way.  Alternatively, to fill a bucket, loosen the thumb screw, then \"open 'er up\" (squeeze the handle all the way)---the result is is maximum unfocused flow, which is perfect for very quickly filling a bucket, etc.COMPLAINTS OF OTHER REVIEWERSMany reviewers (of this and other products) write reviews about different, but similar-looking, products.  Many of the complaints are about sprayers which are NOT \"Gilmour 572TF\".  If you find a sprayer that looks like this in \"bargain bin\" at your local hardware store---it probably is not a \"Gilmour 572TF\", unless the packaging says so.  Sometimes when you order from an Amazon Vendor (rather than Amazon itself)---you don't get exactly the product described.  I'm NOT saying that Gilmour is always the best, but only that THIS review is about the \"Gilmour 572TF\", and other reviewers 1-star reviews MAY not be.CAVEATSHere in the tropics (South Florida)---the year-round heat is hard on all garden tools.  After a year or two, the zinc metal body can seize on your hose and be difficult to unscrew.  I suggest greasing the screw threads with silicon grease when you install it on the hosePermatex 22058 Dielectric Tune-up Grease - 3 oz.If you don't have silicon grease on hand, buy a tube---it terrific for improving electrical connections and refurbishing rubber items, and even for lubricating things such as this.  While you are at it, lubricate all your hose connections (both the threads and the seals) to prevent leaking and to make it easy to screw-on and -off the hoses and accessories.Why not petroleum-based grease?  Petroleum-based grease damages rubber seals.  However even petroleum grease is better than no grease (besides most hose gaskets are now plastic, not rubber)After 2 or 3 years of abuse the action can get begin to get stiff, presumably caused by internal corrosion (or the original grease having deteriorated or lost).  The handle (the lever in back) is steel, and can rust.  Ultimately the stiffness plus the rust results in the handle breaking (after 5 years or so of abuse).  Ideally, keep the nozzle dry---at least don't keep it in a muddy puddle, or half-buried in acidic soil.  It is good idea to lubricate the piston with grease when you start to notice it getting stiff. (With the water off, squeeze the handle to expose the brass rod.  Apply a liberal amount of grease to the piston).  If the nozzle is very stiff, take it off the hose, spray it heavily with WD-40, let it soak for 15 minutes or so---that will probably adequately loosen it up, but is not a permanent solution---you still need to grease it.But those are the extremes---reasonably well taken care of (or at least not abused) a nozzle can last 10 years or more.ALTERNATIVES> Folks with arthritis or weak grips may be happier with traditional brass nozzles, such asDramm 12380 Heavy-Duty Brass Adjustable Hose Nozzle.  These are virtually indestructible, and hold any particular spray pattern until you change it.> Those \"prettier\" versions of the zinc nozzle with plastic handles I mentioned may be more pleasant to use in the winter, and might get the wife's approval.  Often these are only 50 cents or so more than the 573TF, and in that case are clearly better choices.Gilmour 572TFR Commercial Insulated Grip Nozzle with Threaded Front, Red,Gilmour Comfort Grip Nozzle with Threaded Front 593 Black,Gilmour 572 Insulated Pistol Grip Nozzle.> High quality all plastic versions are available for use around salt water.Gilmour Salt Water and Marine Nozzle 474S> There are cheap plastic versions you can get for $1--$2 in \"bargain bins\", which are a good deal for the price, but are not nearly as durable, and through an Amazon vendor when you add shipping your total cost is the same as a zinc or high quality plastic sprayer.> There are versions with spray-pattern or nozzle heads on the front---but that sabotages the virtues of the basic design, reducing the sprayer body into a mere valve.  You'd be better off with a brass nozzle sprayer mentioned above.  I find constantly having to rotate the head to select the 1 or 2 spray patterns I use to be very annoying.  For example (not recommended)Gilmour Pistol Grip Nozzle 327 Teal/Red> If you (or your wife) insists on a \"pretty\" nozzle with s electable spray patterns, I suggest the hybridGilmour Select-A-Spray Comfort Grip Nozzle 594 Black/Tealor Gilmour Select-A-Spray Metal Nozzle 584.  One setting is the full-action, and there are several selectable patterns.NERD CORNERThe zinc body corrodes through electrolytic action.  I.e., the zinc will \"sacrifice\" itself (and corrode) to protect iron or any other metal of lower electrolytic potential which it is touching, or with which it is sharing a conducting solution (such as a water-saturated acidic soil), or salt-water .  So try to keep it dry and away from unpainted, ungalvanized steel, or salt water.  (Galvanized steel is iron coated with zinc for this very purpose, to prevent the iron from rusting--not as a barrier like paint, but rather by electrolytic action).What about those other pretty, fancy, mostly plastic sprayer nozzles (which cost 3x--4x more) that you see at the garden center?---they don't work nearly as well, and won't last nearly as long.  I know this for a fact---my wife keeps buying them---indeed we have a bin of discarded (mostly still functional) \"pretty\" sprayer nozzles, which have \"fallen out of favor\" for various reasons.\n",
      "--------------------\n",
      "This looks like it will be a great piece of equipment.  I've used it a couple of times so far and have been impressed.  The only problem is if it hits a soft area of the yard, the wheels can sink in and it gets stuck.  You certainly can't just set it and forget it.  It needs to be babysat every half hour or so to ensure it is still moving.\n",
      "--------------------\n",
      "This sprinkler seemed to be a perfect fit for what I needed but unfortunately I had to return it.I have about 4500 square feet of grass including backyard and my yard is someone weird shaped, so I figured this sprinkler would work well for me.My first complain is its very slow so I am unable to track how much water this is really consuming. I am a college student and stay at home dad, I don't have the money for a high water bill.Second complain is that's it a heavy piece of metal and I don't understand why it needs to be so heavy. I don't mind lifting weights but I don't wanna lift while I'm working in my grass, this is an expensive sprinkler and I'm not leaving it outside at night so carrying this inside every night is somewhat of a hassle.Pros- I like the coverage it gets, it covers a lot of space and it left me having to only use it a few feet of hose.Setup was pretty simple, I can recall a few times adjusting the sprayers and running off getting my pants soaked lolOverall I give it a B- I think you should just stick with your regular sprinkler, save yourself the hassle and skip this purchase\n",
      "--------------------\n",
      "I remember my dad using a sprinkler like this when I was a kid (I'm 61).  We are in the middle of a drought here in Texas and I was tired of having to move the sprinkler and thought this would solve my problem.  First of all, this is a VERY heavy sprinkler and is awkward to pick up and move.  If you have any trouble lifting heavy objects, get something else.  It has to be moved.  You can't drag it and you can't turn it around and make it go the other direction.  I have found I have to check on it as often, if not more often, than I was moving my oscillating sprinkler.  First, it jumped off the hose/track and was climbing the fence.  Then, it kinked the hose and cut off the water.  Finally, it dug itself a hole and had mud all over the back wheels.  Tried it another time and it just stopped spraying water.  No kink this time, checked the button on the bottom, couldn't get it going again.  I went back to my oscillating sprinkler.  At least it's easy to move around.  I think you need to use this on a very flat, very straight lawn.  Mine is bumpy and I need it to make a couple of gentle curves.  It didn't work for me.  I like the spray it puts out and would use it as a stationery sprinkler if it weren't so heavy to move.\n",
      "--------------------\n",
      "After hearing so much about this unit, and seeing a couple of them in my neighborhood, I decided to give it a try, even though the price was higher than I ever expected to pay for a lawn sprinkler.I now know why so many  people like it.  It is very effective in watering the lawn, without  spraying water high up in the air (less chance for evaporation, and not  affected by wind as much), and it has hands-off operation once you set it  up.Adjusting the spray diameter is easy, and using the hose as a way to  set the travel path for the sprinkler to follow is a great idea.  The  adjustable speed allows you to decide how much water to apply and how much  ground you want to cover in a period of time.Inspecting the yard  afterwards shows that the ground is nicely saturated, and not needing to go  out and move hoses is a welcomed change. This sprinkler is worth the  purchase price!\n",
      "--------------------\n",
      "Update/Tip: The way our yard is this shoots too large of a swath so I went to Lowes and got a 3 foot piece of 1/2 inch aluminum pipe and made some new arms. I can now get as small as about 2 1/2 feet to around 40 feet. What's cool is that they can be adjusted or I can use combination of any of the arms. For instance, I will use one of the original with one of my new ones. The new one will get the center which the originals don't do that well. I drilled 1/16 inch holes which are plenty large enough. See my photos for a better idea.----------------------------------------------------------Unfortunately it's a little early for us to be watering here in the NW. In fact, we don't always need to water except we set a record last year for something like 80 days straight with no rain. But even in July and August the rain is limited so to keep things green and the garden growing we need to water. Sprinkler systems being too expensive for how often we use them sprinklers like this can be a time saver if they work.I tried it out and it did work. I found I could get down to about a 5 foot width by turning the heads down. But you are limited how far to turn them down or they will hit the tractor.The sprinkler heads need to point a certain direction or it will go backwards...I thought high speed was perfect for my needs. Fast enough I watched it travel 5 feet for my test and it shut off as expected.It does look cool and is fun to watch!Over having to move a sprinkler this really is awesome and compared to a sprinkler system the cost is great. I didn't open it up but if it does indeed have plastic gears how long will it last? As often as I will need it here it may last me a long time. Hopefully a decent investment.\n",
      "--------------------\n",
      "I've had my Raintrain for a little over a year now.  I was initially very enthusiastic about it, but over time, I grew less satisfied with it.Pros:>For some reason, it's mesmerizing to watch.  After I get it set up, I always watch for a few moments to make sure the water throw is adjusted properly, and then I find myself watching it longer than necessary.  There's just something cool and relaxing about how the arms spin and the wheels turn and how it slowly moves along.  From talking to some other people who own this and similar products, \"sprinkler watching\" seems to be a common phenomenon.>The coarse spray is ideal for use in windy areas.  You'll get a lot less drift and evaporation using this than you would with a finer-droplet sprinkler.>The adjustability is impressive.  I have a long, 4-foot swatch of grass that would be difficult to water with most other sprinklers, but on the Raintrain, I can point the arms way down and keep the water where I want it.  But I can also point the arms way up and throw the water for at least 50 feet.>It's quiet.  The only sound it makes is the water hitting the grass.>The shut-off feature is very handy and worked quite well (initially).>It stands up well to neglect.  I left both my sprinkler and the stop block sitting outside in the sun and snow all winter, and come spring, they seemed no worse for wear.  Also, you are supposed to disconnect the sprinkler and let it drain after each use, and I've never done that, with no apparent effect yet.Cons:>This thing is really heavy, as it needs to be, but when you're hauling it out to the north forty (okay, the back of a 6500-square-foot lawn), it's a little cumbersome.>The hose connection is awkwardly placed.  It's in the somewhat narrow space at the back between the wheels, so I find it a little difficult to get a good grip on the connector.  There are also two inexplicable protrusions in the body of the sprinkler right next to the connector, and this makes it even harder to grip.  This is why I never drain my sprinkler like I'm supposed to; I hate connecting it.>The connector always leaks, even after I put in a gasket, and the hose sometimes loosens while it's traveling.>Getting the water to throw just the right distance is a pain.  You have to turn on the water, see where it's throwing, turn it off, walk out to the sprinkler, adjust the arms, walk back to the faucet, turn it on, see if that's right, and then repeat until you have it where you want it, which might involve several tries.>The water is thrown in a circle, but only to the outside of the circle.  This is easily seen if you have the sprinkler set where it will be thrown on concrete.  You can see the arc of the circle and the dry area inside it.  The way the Raintrain gets all the ground covered is by advancing this outline through the yard.  For this reason, the stationary setting on the sprinkler is useless.  It will water the outline of the circle only.>Because of the circle outline problem, the area at the beginning and end of the course will get half as much water as the rest of the yard (the beginning of the course will only be hit by the trailing edge of the circle, and the end of the course will only be hit by the front edge).  To compensate for this, I turn off the water, pick up the Raintrain, and move it back at both the beginning and end so that the areas get covered by the half circle twice.  This creates a lot of extra work for what I was hoping would be a labor-saver.>I found that the Raintrain doesn't deliver nearly as much water as it says it will.  The farther you throw the water, the less depth of water you'll put out (because the same amount of water is being spread out over a bigger area), but when I had the arms adjusted for a pretty narrow path, I only measured about a quarter inch of water (even on \"low gear,\" which makes it travel more slowly).  This likely explains why I've struggled so much with keeping my lawn green since I got the Raintrain.  With stationary sprinklers, you can leave them running as long as necessary to achieve the water delivery you need.  But with the Raintrain, if you need more water than it delivers, your only option is to lay out the hose again and start it over, which is a lot of extra work.>While the sprinkler seems overall pretty solid and durable, I knocked a big chip of paint off the \"nose\" when I set it up on end to attach the hose, and the bare spot rusted immediately.>Laying out the hose for a straight line is simple, but if you want to do any curves, it takes a lot of practice and trial and error to create a path that won't make the Raintrain \"jump the track.\"  The tightness of curve it can handle depends on several factors, such as the height and density of the grass, the softness of the ground, and any small bits of yard debris the wheels might go over.>The stop valve on the underside (which is triggered by the stop block) stopped working on mine during its second season.  Now when it runs over the stop block, it slows down, and the arms start turning more slowly, but it doesn't actually stop.  This greatly reduced the handiness of the Raintrain for me.Overall, this is a fun sprinkler, and it has its uses, but I've decided to try something else this summer.  The Raintrain is just too cumbersome and time-consuming to set up for my particular needs.\n",
      "--------------------\n",
      "I always like this hose, it's reliable, less prone to kink and stand up a lot better than any other garden hoses I ever bought!\n",
      "--------------------\n",
      "The Gilmour Flexogen is definitely the best hose I've ever had, and they are made in the USA.  Thanks Gilmour!  Mine stay outdoors year round (we have mild winters with only a few freezes per year, but very long, hot summers). They are very durable and don't kink.  I have never had a reason to take advantage of the lifetime warranty, but other reviewers indicate that Glimour makes good on their promise even decades later.  I've noticed a few negative reviews here where the reviewer is mistakenly commenting on a completely different hose.\n",
      "--------------------\n",
      "It's hard writing a review for this Flexogen garden hose because it has a couple big problems, but something else about it makes up for that one problem. Read on:One thing you have to know- pretty much ANY garden hose you buy will tangle if you don't wrap it the right way. However, some hoses it won't matter if you don't do a good job wrapping it. Unfortunately, others (like this one) are sort of cheap and get knotted easily, so you DO have to take the time to wrap it correctly or else the hose will be damaged over time. I guess if you're not the type of person that wraps the hose when you're done with it (and just leave it sit in the yard) none of this will matter. But in my house we have to wrap the hoses.This means, if you drag the hose across the yard, you might have to go back and straighten out the knots because knots WILL most likely happen. And they will happen in three or four different spots on the hose. To me that's a sign of a bad hose. If one knot occurs that's ok. More than one knot and the hose is bad.However, the one thing that makes up for the knot problem is that I've NEVER had a problem with this hose squirting water where it shouldn't. You see, it's hard for me to say whether this Flexogen hose is bad or good. It has problems, but if you can deal with the knot problem you will have a good hose that will last a long time.I'd say using it just to wash your car isn't a bad idea, but dragging the hose across the yard to rinse off things (and water the garden) IS a bad idea because the knots will continue to occur, so you'll have to keep walking all the way back to where the hose begins to straighten it out.  If you think that's not a problem go ahead and get one.\n",
      "--------------------\n",
      "I thought I had already reviewed this hose.  We love it!  It is strong and it attaches easily and smoothly to each other (we bought TWO 100' lengths) without leaking.  I expect these hoses to last us a terrifically long time.\n",
      "--------------------\n",
      "I own a yard where either the person who planted the trees or the one who ran the irrigation pipes needed a few more lessons about what happens ten years later when that 6' tree becomes a 25 footer and the roots are wrapped around the pipe that was laid 12\" away from it.Because of a variety of issues from shallow topsoil with an uneven granite underlay to existing water/sewer/power lines to heavy tree and root growth, new pipes just aren't in the cards.  Every year I turn on the sprinkler system and start fixing busted pipes and sprinkler heads that have been pushed off by a root.  I've been very lucky so far, I've been able to repair all but one of them.  Once I found myself up to my armpit in a hole not much bigger than my arm, through dense roots where I managed to glue a new pipe piece in.Clearly this sort of stuff takes a lot of time to fix sometimes, and in the meanwhile hand watering my half acre in 100 degree, 0% humidity summers is just a no-go.Enter the Rain Train, because its time to make it rain! :)You lay out a hose path for this, no sharp turns, and only on grass not on pavement or any other type of surface as this may destroy the gears in the unit.  Place the little yellow plastic ramp over the hose where you want it to stop, and insert the metal rod in the ground to hold it.  Turn on the water and set to high or low (high goes faster, disperses less water per square inch) and go do something else for a while.  You can adjust the two spray wands to an angle that gives you the desired coverage, then use the faucet to fine tune it.I have a very hilly yard and after hefting this I was concerned it wouldn't make it uphill, but it appears to move at the same speed regardless of the terrain.  On high you have to stare hard at the wheel spokes for a bit before you can detect movement.  How this works is water comes from the hose into the rear of the unit, then through the two wands which spin, turning a gear that turns the wheels.  Simple and ingenious.I've only had it jump off the hose once, and thats when I made a real hairpin turn to see if it could make it.  Do note that if it jumps the hose it'll go off in some semi-random arc until it runs out of hose.  So while its tempting to set it and go to bed or leave for the day, you might want to check on it once in a while.This is also very handy for those really dry areas where I want to apply a lot of water to a decent sized spot but I dont want to have to remember to keep moving a sprinkler and to turn it off.  This is a nice time and water saver.For those times when I lose a pipe, its also nice to know I have a week or so to fix it and can get the coverage I need from the Rain Train.  This wont ever replace a full sprinkler system, but it'd be fine for watering a really large area that hasn't been fitted with an irrigation system yet, or as I use it for large spot overwatering and temporary irrigation replacement.\n",
      "--------------------\n",
      "Short review:  This hose is amazing, Made in the USA, tough as nails yet flexible, will not kink EVER, and I love it.  Buy it now.Longer review:I bought a home depot memorial day special hose for $19.95 (same size as this one) and thought \"how different can hoses be?  this one says kink free.\"  Three months of hose torture ensued, with me trying various tactics (e.g. only moving hose when it's pressurized) to try to keep it from kinking.  That damn endless kink hose is now in a pile in a garage ready for donation.  It has more kinks in it than a Russian porn movie.  Every time I used it I became more and more frustrated and thought longingly of this twice the price hose.Take my advice, buy this hose, it is worth it.  It's also nice to see it's Made in the USA - at least something is.  Amazing warranty. Even in cooler weather it stays flexible.  Great brass fittings.  They are right, this is the last hose I'll ever buy.  Please, Gilmour, don't try to save on cost in the future - keep this hose just the way it is!Hope this helps.  Did I mention I love this hose?\n",
      "--------------------\n",
      "This hose is 100 feet and it makes it halfway around my house.  A high quality hose for the price.\n",
      "--------------------\n",
      "BEEN USING NOW FOR 3 YEARS.  SLOWLY REPLACING ALL HOSES WITH THESE. KEEP THEM WRAPPED IN A WIND UP STORAGE CONTAINER AND IT LOOKS LIKE I SHOULD HAVE MANY YEARS OF QUALITY HOSES.\n",
      "--------------------\n",
      "UPDATE:  Originally, I gave this hose 5 stars but after using them (I bought 3) for a while, I've changed my opinion. Yes, the hoses appear to be well made and are lighter weight than my old professional grade rubber hoses, but Flexogens are still heavy. These Flexogen hoses DO kink, and they kink easily. The only way to reduce the kinking is to completely unroll the entire 100 feet of hose from the reel, lay it flat on the grund, and then turn and turn and turn (twist/rotate) it until it lays completely flat -- make sure there are no \"waves\" or loops. I pulled about 50 feet off the hose reel and, holding the end, walked across my yard. I did not stop to twist out the waves and loops that it formed while unrolling. The hose formed 9 kinks! What a pain in the hand, elbow and shoulder to straighten it! This process wastes time.The second problem is after I screw on my hose wand and turn on the water, this hose becomes unwieldy. The hose turns so that my wand is upside down. It requires a LOT of effort to twist the hose and hold it so the wand sprays downward--requires using both hands. Fighting this hose is painful, very tiring and aggravating.When you rewind it onto a hose reel, the hose twists and turns, causing it to again form waves and loops, which become kinks. Again, you have to twist, rotate, etc. to get all the waves/loops out so the hose lays flat and straight on the ground. As you reel it in, you have to stop and repeat the process. My old commercial-grade hose never did anything like this. You can buy the professional/commercial grade hoses (100 ft) at big box stores and clubs for about $25. Don't buy the Flexogen.Due to age and arthritis in my hands, I needed to replace my heavy, rubber commercial-grade garden hoses with lighter weight, easier-to-maneuver hoses. I was barely able to wind the old rubber hoses on the hose reel or drag them around the yard. After reading reviews on Amazon and other places for garden hoses, I chose this hose. I'm glad I did. While it's still heavy, it weighs considerably less than my commercial-grade rubber hose. It's easier to wind on the reel and easier to drag around the yard.The Amazon description calls this a \"lightweight\" hose. It is NOT  light. It's substantial. I found a local store that  had this hose in 25-, 50- and 75-ft lengths. I was able to lift each and compare to heavy duty hoses of the same length. I couldn't feel much of a difference, so I definitely would call this a medium- to heavy-weight hose (but lighter than my rubber one).This hose is easier to handle than my old rubber ones because it's more flexible. (I suspect that my old hoses have stiffened over the years.)I've only used one (I bought 3 of these) for about 1.5 weeks. It's been too hot, too muggy and too rainy to use it much, but I'm pleased so far. I believe this hose is a very good quality and should last many years. The solid brass fittings are thick so they won't get dents that cause leaks. Because I haven't dragged it around the yard yet, I cannot say whether it really is a \"no-kink\" hose. I recommend this hose because o the quality.\n",
      "--------------------\n",
      "Even my landscaper said the Gilmour Flexogen 10058100 8-Ply Hose 5/8-inch by 100-foot is the BEST! YOU JUST CAN'T KINK IT!\n",
      "--------------------\n",
      "For years I have purchased impulse sprinklers that work for a while, then plastic parts broke.Now that I have the Rain Bird I am certain that this well made sprinkler will outlast all the others.It is easy to adjust and gives good coverage.\n",
      "--------------------\n",
      "I've had 2 of these now for 3 years and they work really well.  The range is not quite 41 feet, but that's probably due to my water pressure. i'd say its closer to 30 at most.  another impact sprinkler i have goes a few feet further, but it's not the biggest deal.  The positives about this are that it's very solid- i've never had a problem with it not operating properly, and it seems to spray the area very effectively. Considering that they're going on 3 years now, i'd buy them all over again with no hesitation.\n",
      "--------------------\n",
      "I read all the positive reviews and was excited about it. Now im excited to replace it with a plastic rain bird sprinklerPros: Solid build, strong material construction, quick performer, very easy to adjust the spray pattern.Cons: It does not have a gasket on the bottom thread so youll need to add some plumber's tape to get a solid seal. It has some overspray that goes beyond the spray pattern which is disappointing if you wanna keep from wasting water. Expensive! At this price, I could have purchased two plastic Rain Bird sprinklers.Other: I recently tested three different impact sprinklers (on video) and so far the best seems to be the plastic rain bird, youll see my video review from youtube this one and the plastic one if you view the plastic one.\n",
      "--------------------\n",
      "I really like this sprinkler. It works great, the pattern of water covers the distance that they said it would. Others I have purchased did not do so well and some did not last very long. I think Rain bird is a good company that I can rely on for good quality. Kind of rare now days.\n",
      "--------------------\n",
      "We have unfiltered irrigation water - and the sprinkler heads get clogged with weeds, etc.  This one seems to be more tolerant of that - and it really has a reach for distance.  Good weight also helps keep the sprinkler in place\n",
      "--------------------\n",
      "These sprinkler heads are well made, very functional and easy to use; changing the settings is quite simple; highly recommended\n",
      "--------------------\n",
      "I purchased 6 of these hoses with what was supposed to be a lifetime guarantee. After a short time, the end on one of the hoses started leaking so I contacted the manufacturer and got a replacement. A year later another hose started leaking and I got another replacement. Then another hose started leaking but the company would no longer honor the warranty! Now Gilmour is selling them. But it's the same hose - \"Flexogen\". The hose itself it actually quite good if you don't mind replacing the hose ends eventually, I've had to replace every end on every Flexogen hose that I have.Keep in mind that I bought hoses from Flexogen but that company no longer exists and Gilmour would not honor the warranty on those hoses even though Gilmour is now selling them. Also note that Flexogen is a patented hose. Lifetime warranty isn't much good when the company gets bought or taken over by another company and the new company (Gilmour) won't honor the warranty. And who wants to have to keep sending in hose parts to get a replacement every year or two.Let me reiterate, Gilmour would not honor the warranty on my Flexogen hoses. I wrote to them multiple times and was told (without explanation) that Gilmour would not replace the defective hoses. If you buy these hoses expecting a lifetime warranty, you may not get it.On the Gilmour website, there is no longer any information relating to Flexogen hose warranty or on how to have a Flexogen hose replaced.  On Amazon, it does say \"This heavy-duty garden hose is made in the USA and backed by a lifetime guarantee\". It also says Lifetime Guarantee on the front of the hose package. Gilmour is now owned by the Robert Bosch Corp., so probably even less chance of getting a warranty replacement.\n",
      "--------------------\n",
      "IMO, the gold standard in impact sprinklers.  Buy one (OK maybe four) and be done with it.Rain Bird has built this right for decades and it's a wonder why so many other companies cheapen this simple design.\n",
      "--------------------\n",
      "I used to use a really primitive manual edger that I inherited from my father. Blistered hands and time wasted, I decided there had to be a better way and this is surely it.Edging is one of those necessary evils if you want a great looking house. I don't edge every time I mow. Usually I do it every other time. The first time out after a long winter, edging usually takes a little longer. After that, edging is a snap because you are basically in maintanence mode.I also use this around my landscaping and flower beds with equally great results.The blade on the Edge Hog is easily replaceable and the tell tale sign to replace it is when the edge starts to look a little rough and the machine seems slower.\n",
      "--------------------\n",
      "At the risk of sounding like an idiot...I am 45-years-old. I have been a homeowner for nearly 20 years. And I have NEVER had a power edger. I have edged my lawn for almost 20 years with an old-fashioned, manual edger. Finally, after too many blisters, a sore back, and just plain old laziness, I decided to treat myself to the Edge Hog. And boy...Am I glad I did! Right out of the box, I could tell this was a quality product. Assembly couldn't have been any easier. Just attach the top handle to the bottom handle. No tools required! And everything else is pre-assembled. I had used a power edger in the past. Like maybe 30 years ago when I borrowed one from a friend so I could get the lawn done quicker and go play ball or something. But for all practical purposes, this was my first time. And it was easy as pie. I had no problem getting the hang of using the Edge Hog. The edging was done fast and easy. What a difference, too! No more raggedy edge like I got from my manual edger. Instead I now get a nice clean \"professional\" edge. Finally! And my back is so much happier!! The price on this product is competitive with other retailers. I had a $25.00 gift certificate and am an Amazon Prime member. So for about $65.00 total, I am now the proud owner of this quality Black & Decker edger. I highly recommend this product. If I could give it 6 stars, I would!\n",
      "--------------------\n",
      "The Black & Decker LE750 Edge Hog 2-1/4 HP Electric Landscape Edger is so easy to use and does a great job of edging my lawn. I purchased this edger because I became so tired of trying to edge my lawn with a string trimmer. The string trimmer did a choppy job, but the B&D edger makes a nice and neat edge on my lawn. Before this purchase I dreaded the job. The fact that this edger can also make trenches is a big plus. I am a female senior citizen and care for my lawn myself. Anything that makes that job easier (like this edger) deserves five stars. I highly recommend this product to anyone who needs an edger that is easy to use and does a good job.\n",
      "--------------------\n",
      "It wouldn't be too difficult to design a wider cutting blade that would create a wider 'trench' (although the motor might need some beefing up to handle the additional load) and it would be great if it was easier to get more depth too (it's possible but requires a little backyard re-engineering).  It's worth what it costs, though...I'm basically satisfied.\n",
      "--------------------\n",
      "dang this thing does some work, i just grab the handle and off i go, my lawn edges never looked so good.\n",
      "--------------------\n",
      "I had a previous Edge-Hog for a little more than 8 years when the motor brushes finally wore out.  I could have bought the replacement parts and changed them out for $30, but then I decided to just get a new one.  There are a couple of changes between the older and the newer model.  The new unit is lighter and seems to have more power, though that may be because of the new brushes working better.  The one BIG change is the guard over the blade.  It is too soon to tell if this is an improvement or just a way to save money on their part.  It certainly is less safe.The older model had a &#34;swing open&#34; cover which protected the blade almost completey above the ground level.  Good part about that was not being able to get fingers or toess into the cutting area.  Bad part was having to stop for built up grass, or when the ground was wet, built up mud.  You'd have to stop and open the door to clean out the area.The newer model doesnot have a cover and most of the blade area is open.  There is something akin to a bicycle fender covering the blade for protection.  The first day I used it, the ground was wet and dirt built up in the shield, but not enough to really bog down the blade.  I unplugged the unit for safety sake, but unlike the older model, you needed a big screwdriver to pull out all the mud.  If you use it on dry ground, the newer model will have less build up of grass than the older one.I am hoping to get at least eight years out of this unit, like I did with my last one.\n",
      "--------------------\n",
      "This is the latest version of an edger B&amp;D has been making for at least 20 years, and there are plenty of the 20 year old models still in use. It's nearly silent, much easier to use than a gas model, and seems to  cut better with less stalling than my neighbor's 3.5HP gas model.\n",
      "--------------------\n",
      "This edger does the job and more.  I give it my highest recommendation.I hadn't edged my lawn since last Fall when my gas-powered edger bit the dust.  We have St. Augustine grass here in Florida.  It propagates by spreading tough, vine-like runners.  I had these in spades creeping over my driveway and over onto the concrete rain channel gutter in front of our house.  This edger cut right through them, which I didn't expect, given the toughness of the grass.  But it never hesitated, except on some very stuborn growth.  I just backed up and hit it again and away the edger went, without even breathing hard.  Even the gas-powered edger wasn't this good.The secondary handle and the adjustable edge guide are quite helpful.  I never felt like this edger had taken control and gone where I didn't want it to go.  Its light weight, easy rolling wheels and great cutting power more than compensate for the 100-ft extension cord it's tethered to.  I think it took me as long to rewind the cord as it took to edge the grass (total edging is about 200-225 linear feet).  Also it has two large wheels in the back and one at the front, so it stays level and makes it easy to push in a straight line.  With the edge guide that rides against the driveway or walkway there was very little of the sparking caused by the blade hitting the concrete.This is about as easy as it gets.  No more gas and oil mix, no more new spark plugs, no more 15-20 pulls to get the engine to start, and it's relatively quiet when running.  Just press the trigger and go.  Love it, love it, love it.\n",
      "--------------------\n",
      "I love this edger!  I have been using it for almost 2 years, and it is still going strong.  It has plenty of power, yet is easy to maneuver.I get a beautiful, straight edge along my sidewalk from using this tool.  It is so easy to guide in a straight line.  I also use it to keep a trench space between my grass and my landscaped areas, which has worked much better than a trimmer.We had a gas powered edger before this one, but it was too heavy for me.  I actually enjoy yard work, but rarely did it because the tools we had were difficult for me to manage.  Now that I have this electric edger, which is significantly lighter without the gas tank, as well as a manual mower, I do most of the yard work, and love it!\n",
      "--------------------\n",
      "I've purchased a lot of B&D product and edger is one of the best! The trench feature is a great addition and it works great.  I can edge my small yard in minutes and I don't have to worry about mixing fuel or having to winterize my equipment.\n",
      "--------------------\n",
      "This &#34;Black & Decker AF-100 String Trimmer Replacement Spool&#34; is exactly what I needed for my Black & Decker cordless weed trimmer. This is east to install and it works as well as the original spool that came preinstalled on my trimmer.Works as expected!Highly Recommended!CFH\n",
      "--------------------\n",
      "If you need an edger, and don't want the trouble of maintaining a gas-powered edger, this is the electric edger for you. It's more powerful than most, and sturdy as all heck. But it's also pretty light, too. Very easy to move around the yard.This tool is as indespensible as my lawn mower. If you're edging your lawn with a string trimmer, or not edging your lawn at all, you'll love the results you can get so easily with this edger.\n",
      "--------------------\n",
      "If you have a Black and Decker string trimmer that uses auto-feed string, this is the spool to buy. The string works well. The spool snaps in easily and you don't have to mess with rolling a spool with bulk string.\n",
      "--------------------\n",
      "This is the direct replacement part for the B&D; Grass Hog model NST2018.  I love that trimmer as it is easy to use and I don't have to fight with a gas powered trimmer and all the problems involved with using one.  This replacement spool directly fits onto the trimmer and is easy to change.  The trimmer is designed to automatically feed the trimmer line and I didn't want to mess with rewinding line onto the old spool.For me the 30 foot spool will last a whole cutting season or more and it is just easier to deal with than buying trimmer line and winding it yourself.  This is a good buy and works well.  I recommend it to you!\n",
      "--------------------\n",
      "This is a direct replacement and works great. My only gripe is that this particular weed eater uses way to much line.\n",
      "--------------------\n",
      "I bought this for my black and decker trimmer and where else would i buy these? its not worth driving to the store and look in different eisle to find something simple as these. Also amazon always seem to have the better price.\n",
      "--------------------\n",
      "GOOD\n",
      "--------------------\n",
      "-Quick and fairly easy to install- Seems to be of good quality- Only option I know of for replacements for the B and D trimmer- Too expensive as someone already noted. The retail price is even more out there so I'm glad Amazon cuts the price in half, but still expensive per roll.\n",
      "--------------------\n",
      "So what did you want to know? I started my trimming carrier with the Black & Decker Automatic Feed Spool (AFS). It is just plug and go. I prefer my trimmer string to come from Black & Decker. This way I will not come unraveled trying to use some cheap substitute. The spools last longer than expected. But all good things come to an end and you don't want to be half way through the yard when you find your self strung out.\n",
      "--------------------\n",
      "So what did you want to know? I started my trimming carrier with the Black & Decker Automatic Feed Spool (AFS). It is just plug and go. I prefer my trimmer string to come from Black & Decker. This way I will not come unraveled trying to use some cheap substitute. The spools last longer than expected. But all good things come to an end and you don't want to be half way through the yard when you find yourself strung out.Black & Decker CMM1200 19-Inch 24-Volt Cordless Electric Mulching Lawn Mower\n",
      "--------------------\n",
      "Works as expected, no surprises of any kind. I'm now on my 4th three pack and will get a 5th when the time comes.\n",
      "--------------------\n",
      "so good, Bought these as extra to have them on hand and the one my weed eater came with is still working. Will order more as needed, I am all for no muss, no fuss......\n",
      "--------------------\n",
      "Bought for the following trimmer...This little trimmer really eats up the weeds and tall grass. Much better than any other cordless trimmer that I've tried. Battery life is above average and charging is fast. I do have the B&D; Blower that uses the same battery so I have a back up should I need it. I'll edit this review and add to it after I've had the opportunity to use it longer but so far, I am very pleased with the product.\n",
      "--------------------\n",
      "I easily get two years out of a spool of this string while cutting both grass and weeds on my 18v trimmer.  It cuts clean and level and does not shred even on the harder stuff.  On rare occasions you may just break a little of the end off but that just tears away cleanly on your next trim, so no cutting of the line is necessary.  Yes, it is cheaper to just buy the line and wind it yourself, but for roughly $4 and some change it is hardly worth your time and effort.\n",
      "--------------------\n",
      "It took many years for my Black and Decker Gross Hog trimmer to use up all of its string.  Changing the empty string spool was a snap, and the new one works perfectly, just as I would expect.  No complaints.\n",
      "--------------------\n",
      "I looked around at several websites, and multiple options on Amazon and this was the best deal I found.Fit into my Black and Decker Trimmer perfectly. Just snap in and go.\n",
      "--------------------\n",
      "My string trimmer is a great light duty tool and works very good. I bought the extra spools of string for two good reasons it is much cheaper through Amazon than our local retailers and with fuel for the auto's being at $3.35/ gal. this saves 3 trips to get the string and luck being what it is chances are when you give out of string the retailer will be out also. Good Buy from a good outfit to do business with(Amazon.com).Thanks again,Denny\n",
      "--------------------\n",
      "Simply - these reels are inexpensive and easy to replace and install. They seem to last pretty long also. Highly recomend\n",
      "--------------------\n",
      "For years, I lived with a Black & Decker trimmer that required hand-winding of the line spool.  What a fiasco!  Once the factory-wound spool ran out, the line never again fed properly.  No matter how much care one took with the hand-winding, the line always broke off prematurely -- from having gotten jammed up.  I spent at least as much time rewinding the spool as I did trimming grass.  Then I found the model Black & Decker trimmer that takes disposable spools -- like these.  They're a godsend.  Perhaps it's more economical to wind your own spool, but if your time (and blood pressure) mean anything to you, disposable spools are the way to go.  (And the manufacturer says you CAN hand-wind these spools if you like -- so you won't be stuck if you don't happen to have a fresh disposable spool on hand.)\n",
      "--------------------\n",
      "These are the refill for my weed whacker.  They work fine and are easy to install.  It is always good to have a few extra to replace the spent roll.\n",
      "--------------------\n",
      "I've started winding my own spools now.  These are very convenient, but you really pay a hefty price for that convenience. I'm buying bulk string now and use my drill motor to wind it onto the empty spools.\n",
      "--------------------\n",
      "At the time I purchased these replacement spools the official Amazon description listed only GrassHog NST2018 as compatible model. I can confirm that it works with the new GrassHog NST2118Black & Decker NST2118 12-Inch 18-Volt Ni-Cd Cordless Electric GrassHog String Trimmer/Edger.The automatic feed spool on GrassHog advances the string without needing to bump on the ground. The benefit of this system is that cutting is easier as it constantly replaces worn out string, the down side that the usage of the string is faster than when done manually.I have tried wounding the string by hand and found it a bit cumbersome and a bit time consuming, so I figured less than $5 per spool is not to bad to save me 5 minutes of time wounding and dealing with jammed string. Each spool contains 30 feet of 0.065 inch diameter round line. It is factory spooled and is wound tighter than when I wound the spool by hand.To replace the spool:1. Remove battery2. Squeeze the tabs on the spool cap to release it3. Pull the empty spool out by pulling directly away from the housing4. Clean out the housing from debris5. Make sure that the level that controls the spooling  is aligned with the edge of the housing6. Take a string from the new spool and feed it through the eyelet in the housing7. Push the spool into the housing and rotate it until it feels seated and the tabs of the spool align with the holes in the housing8. Put the cap back on9. The string outside the housing should be 5 3/8 inches, if it is longer than this length use scissors to trim itCollage of two different views of the spools in this package attached under customer photos.Overall, I am pleased with the spools - they should take me through the next couple of summers!Ali Julia review\n",
      "--------------------\n",
      "I use this on my 18v trimmer.  It seems to last forever.  Changing spools is a little tricky, but once you do it the first time, it really isn't an issue.  Three spools will probably outlast the life of the trimmer - which I think is pretty well made.\n",
      "--------------------\n",
      "super easy to swap out and last a long time, unless you are chopping concrete!  I use these all the time, as I feel they are worth the extra cost for the convenience.\n",
      "--------------------\n",
      "I know it's a lot cheaper to re-string your own spools but these are really convenient, and without the hassle of doing it on your own.\n",
      "--------------------\n",
      "...I wish B&D would make a refill that held more than 30 feet.  Otherwise, it's a good product.  I would give 4.5 stars if I could.\n",
      "--------------------\n",
      "This is the easiest replacement string to install on a weed wacker. No mess ,just place it in lock it and then go tackle your yard!\n",
      "--------------------\n",
      "It installs easily, and it works.  What more is there to say about a product like this.  When you have a weed-whacker, eventually, you will have to refill the spool.\n",
      "--------------------\n",
      "BZZZZZTTTT.... ZAP ZAP.  Dead bugs all over the place.  I didnt use any of the mosquito attractant packs or anything but this thing does get rid of all the bugs around that are flying around if you have any lights on outside.  Its fun to catch beatles and throw them into the zapper  :D\n",
      "--------------------\n",
      "Easy to replace. Summer worth of string in these three spools. Carefully handle so that the string doesn't be OEM uncoiled prior to install.\n",
      "--------------------\n",
      "I made the mistake of taking the spool that came with my B & D LST136 cordless trimmer and experienced what it would be like if I tried to save money by buying cord in bulk and winding my own spools.  I painstakingly wound the cord from left to right and from right to left as instructed in the manual.  I dropped it a few times and had to begin again.  I did it right because the cord does advance automatically in my trimmer, but I have to say I am glad I purchased spools that are already wound.  When I have to replace the spool that came with the trimmer, I will be careful to hold the cord tightly against the spool!\n",
      "--------------------\n",
      "I put these in a cordless 18 volt Black and Decker trimmer and they have worked flawlessly.  Just have to put them in the same way the old one came out with no tools just snapping them in place and letting about 4&#34; of string out and they feed the same way.\n",
      "--------------------\n",
      "Works great and is easy to replace spool of line string for my Black & Decker 20-volt battery/cordless weed trimmer!  Good value when purchased in package.\n",
      "--------------------\n",
      "This one has one bulb (versus 2 in the larger units).. I've found that these last a couple of years with regular (daily) use.. My last one lasted about two years - and when it went out, the problem wasn't the bulb - it was the transformer in the top of the unit.  It runs silent (no audible humming from more than a few feet away).\n",
      "--------------------\n",
      "There's not too much I can say about something as simple as a bug zapper other than -- it works well, it's silent (except when zapping bugs), it DOES attract and eradicate mosquitoes and other flying insects, and it's only 15 watts.Happy with my purchase.\n",
      "--------------------\n",
      "What can you say about replacement string. But, in 3 packs, more economical. It is fairly easy to replace. Good product\n",
      "--------------------\n"
     ]
    }
   ],
   "source": [
    "print_reviews(sample_reviews)"
   ]
  },
  {
   "cell_type": "markdown",
   "metadata": {},
   "source": [
    "## Create Occurance Matrix, Vocabulary"
   ]
  },
  {
   "cell_type": "code",
   "execution_count": 12,
   "metadata": {
    "collapsed": true
   },
   "outputs": [],
   "source": [
    "import math\n",
    "import numpy as np\n",
    "from sklearn.feature_extraction.text import CountVectorizer"
   ]
  },
  {
   "cell_type": "code",
   "execution_count": 13,
   "metadata": {
    "collapsed": true
   },
   "outputs": [],
   "source": [
    "# create count vectorizer\n",
    "count_vectorizer = CountVectorizer(decode_error='ignore',\n",
    "                                   stop_words='english',\n",
    "                                   binary=True,\n",
    "                                   min_df=0.05)"
   ]
  },
  {
   "cell_type": "code",
   "execution_count": 14,
   "metadata": {
    "collapsed": true
   },
   "outputs": [],
   "source": [
    "# create occurance matrix, corpus vocabulary\n",
    "# NOTE: occurance matrix is term-document (rows are terms, columns are docs)\n",
    "occurrence_matrix = count_vectorizer.fit_transform((review['reviewText'] for review in sample_reviews)).transpose()\n",
    "vocab = count_vectorizer.get_feature_names()"
   ]
  },
  {
   "cell_type": "code",
   "execution_count": 15,
   "metadata": {
    "collapsed": true
   },
   "outputs": [],
   "source": [
    "# get pos words\n",
    "with open('../data/positive-words.txt', errors='ignore') as f:\n",
    "    pos_words = [line.strip() for line in f.readlines() if ';' not in line]"
   ]
  },
  {
   "cell_type": "code",
   "execution_count": 16,
   "metadata": {
    "collapsed": true
   },
   "outputs": [],
   "source": [
    "# get neg words\n",
    "with open('../data/negative-words.txt', errors='ignore') as f:\n",
    "    neg_words = [line.strip() for line in f.readlines() if ';' not in line]"
   ]
  },
  {
   "cell_type": "code",
   "execution_count": 17,
   "metadata": {
    "collapsed": true
   },
   "outputs": [],
   "source": [
    "# filter pos and neg words\n",
    "pos_words = [w for w in pos_words if w in vocab]\n",
    "neg_words = [w for w in neg_words if w in vocab]"
   ]
  },
  {
   "cell_type": "markdown",
   "metadata": {},
   "source": [
    "## Test Polarizer Methods"
   ]
  },
  {
   "cell_type": "code",
   "execution_count": 22,
   "metadata": {
    "collapsed": true
   },
   "outputs": [],
   "source": [
    "# append project to sys.path\n",
    "import sys\n",
    "sys.path.append('/Users/robertdalton/web-projects/feature-extractor')"
   ]
  },
  {
   "cell_type": "code",
   "execution_count": 23,
   "metadata": {
    "collapsed": true
   },
   "outputs": [],
   "source": [
    "from polarizer import Polarizer"
   ]
  },
  {
   "cell_type": "code",
   "execution_count": 24,
   "metadata": {
    "collapsed": true
   },
   "outputs": [],
   "source": [
    "pol = Polarizer(vocab, occurrence_matrix, pos_words, neg_words)"
   ]
  },
  {
   "cell_type": "code",
   "execution_count": 65,
   "metadata": {},
   "outputs": [
    {
     "data": {
      "text/plain": [
       "0.11027913869834094"
      ]
     },
     "execution_count": 65,
     "metadata": {},
     "output_type": "execute_result"
    }
   ],
   "source": [
    "# test word polarity\n",
    "pol._get_word_polarity('deal')"
   ]
  },
  {
   "cell_type": "code",
   "execution_count": 66,
   "metadata": {},
   "outputs": [
    {
     "data": {
      "text/plain": [
       "0.13458510595478876"
      ]
     },
     "execution_count": 66,
     "metadata": {},
     "output_type": "execute_result"
    }
   ],
   "source": [
    "# test document polarity\n",
    "pol.get_document_polarity(sample_reviews[0]['reviewText'])"
   ]
  },
  {
   "cell_type": "markdown",
   "metadata": {},
   "source": [
    "## Analysis of Polarization Measures\n",
    "\n",
    "Now that we've a successful way to obtain polarity, we need to ask: how good is our measure? Let's take a look at the scores for a few sample reviews:"
   ]
  },
  {
   "cell_type": "code",
   "execution_count": 70,
   "metadata": {
    "collapsed": true
   },
   "outputs": [],
   "source": [
    "# add polarity to sample reviews\n",
    "for review in sample_reviews:\n",
    "    review['polarity'] = pol.get_document_polarity(review['reviewText'])"
   ]
  },
  {
   "cell_type": "code",
   "execution_count": 78,
   "metadata": {},
   "outputs": [
    {
     "name": "stdout",
     "output_type": "stream",
     "text": [
      "0 \t 0.1346 \t 5.0\n",
      "1 \t 0.026 \t 5.0\n",
      "2 \t 0.1659 \t 4.0\n",
      "3 \t 0.1064 \t 5.0\n",
      "4 \t 0.0896 \t 4.0\n",
      "5 \t 0.0111 \t 5.0\n",
      "6 \t 0.0453 \t 5.0\n",
      "7 \t 0.0567 \t 5.0\n",
      "8 \t 0.0799 \t 4.0\n",
      "9 \t 0.0473 \t 5.0\n",
      "10 \t -0.0304 \t 5.0\n",
      "11 \t 0.1022 \t 4.0\n",
      "12 \t 0.1072 \t 5.0\n",
      "13 \t 0.1318 \t 5.0\n",
      "14 \t 0.2327 \t 5.0\n",
      "15 \t 0.1059 \t 5.0\n",
      "16 \t 0.1172 \t 5.0\n",
      "17 \t 0.1812 \t 5.0\n",
      "18 \t 0.062 \t 5.0\n",
      "19 \t 0.0734 \t 5.0\n",
      "20 \t 0.0496 \t 5.0\n",
      "21 \t 0.1081 \t 4.0\n",
      "22 \t 0.0748 \t 5.0\n",
      "23 \t 0.1117 \t 4.0\n",
      "24 \t 0.2221 \t 5.0\n",
      "25 \t 0.1455 \t 5.0\n",
      "26 \t 0.1184 \t 2.0\n",
      "27 \t 0.1537 \t 4.0\n",
      "28 \t 0.1509 \t 4.0\n",
      "29 \t 0.1295 \t 5.0\n",
      "30 \t 0.1804 \t 4.0\n",
      "31 \t 0.1817 \t 3.0\n",
      "32 \t 0.158 \t 2.0\n",
      "33 \t 0.1599 \t 5.0\n",
      "34 \t 0.1633 \t 5.0\n",
      "35 \t 0.1709 \t 3.0\n",
      "36 \t 0.0664 \t 5.0\n",
      "37 \t 0.0933 \t 5.0\n",
      "38 \t 0.0803 \t 3.0\n",
      "39 \t 0.0941 \t 5.0\n",
      "40 \t 0.1315 \t 5.0\n",
      "41 \t 0.153 \t 5.0\n",
      "42 \t 0.0039 \t 5.0\n",
      "43 \t 0.0984 \t 4.0\n",
      "44 \t 0.098 \t 1.0\n",
      "45 \t 0.0409 \t 5.0\n",
      "46 \t 0.1859 \t 5.0\n",
      "47 \t 0.1216 \t 5.0\n",
      "48 \t 0.2073 \t 3.0\n",
      "49 \t 0.1326 \t 5.0\n",
      "50 \t 0.1152 \t 5.0\n",
      "51 \t 0.1667 \t 5.0\n",
      "52 \t 0.0928 \t 1.0\n",
      "53 \t 0.1621 \t 5.0\n",
      "54 \t 0.227 \t 5.0\n",
      "55 \t 0.2326 \t 5.0\n",
      "56 \t 0.2123 \t 5.0\n",
      "57 \t 0.166 \t 4.0\n",
      "58 \t 0.133 \t 5.0\n",
      "59 \t 0.1377 \t 5.0\n",
      "60 \t 0.2126 \t 5.0\n",
      "61 \t 0.239 \t 5.0\n",
      "62 \t 0.2662 \t 5.0\n",
      "63 \t 0.1753 \t 5.0\n",
      "64 \t -0.0375 \t 5.0\n",
      "65 \t 0.2394 \t 5.0\n",
      "66 \t -0.1119 \t 5.0\n",
      "67 \t 0.1262 \t 5.0\n",
      "68 \t 0.0513 \t 5.0\n",
      "69 \t 0.0491 \t 5.0\n",
      "70 \t -0.1093 \t 4.0\n",
      "71 \t 0.028 \t 4.0\n",
      "72 \t 0.0136 \t 5.0\n",
      "73 \t 0.0259 \t 5.0\n",
      "74 \t 0.0692 \t 5.0\n",
      "75 \t 0.0758 \t 5.0\n",
      "76 \t 0.0671 \t 5.0\n",
      "77 \t 0.1079 \t 5.0\n",
      "78 \t -0.0351 \t 5.0\n",
      "79 \t 0.0095 \t 5.0\n",
      "80 \t -0.0591 \t 5.0\n",
      "81 \t 0.1701 \t 5.0\n",
      "82 \t 0.0655 \t 5.0\n",
      "83 \t 0.1057 \t 4.0\n",
      "84 \t 0.0126 \t 5.0\n",
      "85 \t 0.0037 \t 5.0\n",
      "86 \t 0.0671 \t 5.0\n",
      "87 \t 0.2097 \t 5.0\n",
      "88 \t 0.0034 \t 5.0\n",
      "89 \t 0.1212 \t 4.0\n",
      "90 \t -0.0147 \t 5.0\n",
      "91 \t 0.0609 \t 3.0\n",
      "92 \t 0.1462 \t 5.0\n",
      "93 \t 0.0205 \t 5.0\n",
      "94 \t 0.0705 \t 5.0\n",
      "95 \t 0.0013 \t 5.0\n",
      "96 \t 0.0198 \t 5.0\n",
      "97 \t 0.04 \t 4.0\n",
      "98 \t 0.1101 \t 5.0\n",
      "99 \t 0.0255 \t 4.0\n"
     ]
    }
   ],
   "source": [
    "# examine polarity, rating for each review\n",
    "for i, review in enumerate(sample_reviews):\n",
    "    print(i, '\\t', round(review['polarity'], 4), '\\t', review['overall'])"
   ]
  },
  {
   "cell_type": "code",
   "execution_count": 85,
   "metadata": {},
   "outputs": [
    {
     "data": {
      "text/plain": [
       "0.16591042351473545"
      ]
     },
     "execution_count": 85,
     "metadata": {},
     "output_type": "execute_result"
    }
   ],
   "source": [
    "# NOTE: As of 11:00AM, 8/13, averages for document and word polarities were incorrect.\n",
    "#       Examined using code below.\n",
    "import string\n",
    "\n",
    "# test document polarity by hand\n",
    "test_doc = sample_reviews[2]['reviewText']\n",
    "test_doc_words = (w.strip(string.punctuation).lower() for w in test_doc.split())\n",
    "test_word_polarities = []\n",
    "for w in test_doc_words:\n",
    "    if w in vocab:\n",
    "        test_word_polarities.append(pol._get_word_polarity(w))\n",
    "        \n",
    "sum(test_word_polarities) / len(test_word_polarities)"
   ]
  },
  {
   "cell_type": "code",
   "execution_count": 95,
   "metadata": {},
   "outputs": [
    {
     "data": {
      "text/plain": [
       "'I purchased 6 of these hoses with what was supposed to be a lifetime guarantee. After a short time, the end on one of the hoses started leaking so I contacted the manufacturer and got a replacement. A year later another hose started leaking and I got another replacement. Then another hose started leaking but the company would no longer honor the warranty! Now Gilmour is selling them. But it\\'s the same hose - \"Flexogen\". The hose itself it actually quite good if you don\\'t mind replacing the hose ends eventually, I\\'ve had to replace every end on every Flexogen hose that I have.Keep in mind that I bought hoses from Flexogen but that company no longer exists and Gilmour would not honor the warranty on those hoses even though Gilmour is now selling them. Also note that Flexogen is a patented hose. Lifetime warranty isn\\'t much good when the company gets bought or taken over by another company and the new company (Gilmour) won\\'t honor the warranty. And who wants to have to keep sending in hose parts to get a replacement every year or two.Let me reiterate, Gilmour would not honor the warranty on my Flexogen hoses. I wrote to them multiple times and was told (without explanation) that Gilmour would not replace the defective hoses. If you buy these hoses expecting a lifetime warranty, you may not get it.On the Gilmour website, there is no longer any information relating to Flexogen hose warranty or on how to have a Flexogen hose replaced.  On Amazon, it does say \"This heavy-duty garden hose is made in the USA and backed by a lifetime guarantee\". It also says Lifetime Guarantee on the front of the hose package. Gilmour is now owned by the Robert Bosch Corp., so probably even less chance of getting a warranty replacement.'"
      ]
     },
     "execution_count": 95,
     "metadata": {},
     "output_type": "execute_result"
    }
   ],
   "source": [
    "# Examine text for negative review with positive polarity\n",
    "# sample_reviews[52]['reviewText']\n",
    "\n",
    "hose_review = {\n",
    "    # '_id': ObjectId('5b71de31201fd5bb2b0ad92f'),\n",
    "    'reviewerID': 'A2X06FP2PQ6EK0',\n",
    "    'asin': 'B00002N8K3',\n",
    "    'reviewerName': 'S. A. ROBBINS \"shirley_rw\"',\n",
    "    'helpful': [161, 195],\n",
    "    'reviewText': 'I purchased 6 of these hoses with what was supposed to be a lifetime guarantee. After a short time, the end on one of the hoses started leaking so I contacted the manufacturer and got a replacement. A year later another hose started leaking and I got another replacement. Then another hose started leaking but the company would no longer honor the warranty! Now Gilmour is selling them. But it\\'s the same hose - \"Flexogen\". The hose itself it actually quite good if you don\\'t mind replacing the hose ends eventually, I\\'ve had to replace every end on every Flexogen hose that I have.Keep in mind that I bought hoses from Flexogen but that company no longer exists and Gilmour would not honor the warranty on those hoses even though Gilmour is now selling them. Also note that Flexogen is a patented hose. Lifetime warranty isn\\'t much good when the company gets bought or taken over by another company and the new company (Gilmour) won\\'t honor the warranty. And who wants to have to keep sending in hose parts to get a replacement every year or two.Let me reiterate, Gilmour would not honor the warranty on my Flexogen hoses. I wrote to them multiple times and was told (without explanation) that Gilmour would not replace the defective hoses. If you buy these hoses expecting a lifetime warranty, you may not get it.On the Gilmour website, there is no longer any information relating to Flexogen hose warranty or on how to have a Flexogen hose replaced.  On Amazon, it does say \"This heavy-duty garden hose is made in the USA and backed by a lifetime guarantee\". It also says Lifetime Guarantee on the front of the hose package. Gilmour is now owned by the Robert Bosch Corp., so probably even less chance of getting a warranty replacement.',\n",
    "    'overall': 1.0,\n",
    "    'summary': 'Not As Good As It Looks!',\n",
    "    'unixReviewTime': 1078099200,\n",
    "    'reviewTime': '03 1, 2004',\n",
    "    'polarity': 0.092814749960172\n",
    "}\n",
    "\n",
    "hose_review['reviewText']"
   ]
  },
  {
   "cell_type": "code",
   "execution_count": 96,
   "metadata": {},
   "outputs": [
    {
     "name": "stdout",
     "output_type": "stream",
     "text": [
      "Name:\n",
      " Gilmour Flexogen 10058100 8-Ply Hose 5/8-inch by 100-foot \n",
      "\n",
      "Categories:\n",
      " ['Patio, Lawn & Garden', 'Gardening & Lawn Care', 'Watering Equipment', 'Hoses & Accessories', 'Garden Hoses']\n"
     ]
    }
   ],
   "source": [
    "meta = metadata.find({'asin': hose_review['asin']}).next()\n",
    "print('Name:\\n', meta['title'], '\\n')\n",
    "print('Categories:\\n', meta['categories'][0])"
   ]
  },
  {
   "cell_type": "markdown",
   "metadata": {},
   "source": [
    "### Why does a negative review have a positive polarity?\n",
    "In this case, it's because the words indicating a negative opinion (`leaking`, `not replace`, `replace`, etc) do not have significant PMI values with negative words.\n",
    "\n",
    "This may be because these words are domain specific - they carry special meaning in the context of the 'Watering Equipment', 'Hoses & Accesories', and 'Garden Hoses' product categories.\n",
    "\n",
    "### What's the solution?\n",
    "A solution would be to train polarizers on specific product domains - e.g. specific product categories. Narrowing the corpus a Polarizer is trained on will help isolate context, which will help words to have a more consistent semantic meaning accross reviews.\n",
    "\n",
    "tldr; the solution is to train polarizers using reviews from specific categories. But, which ones? How granular do we take it? At the category or product level? And how much will this improve things?\n",
    "\n",
    "## Test Polarity on Reviews, Most Specific Category Level\n",
    "At a glance, it seems that the `categories` field in the metadata is arranged by specificity: the most broad category at the front of the list, and the most specific category at the end."
   ]
  },
  {
   "cell_type": "code",
   "execution_count": 98,
   "metadata": {},
   "outputs": [
    {
     "name": "stdout",
     "output_type": "stream",
     "text": [
      "Name:\n",
      " Sand Shark Margare Maron Audio CD \n",
      "\n",
      "Categories:\n",
      " ['Patio, Lawn & Garden', 'Lawn Mowers & Outdoor Power Tools', 'Metal Detectors']\n"
     ]
    }
   ],
   "source": [
    "# examine product name, categories\n",
    "meta = metadata.find_one()\n",
    "print('Name:\\n', meta['title'], '\\n')\n",
    "print('Categories:\\n', meta['categories'][0])"
   ]
  },
  {
   "cell_type": "markdown",
   "metadata": {},
   "source": [
    "Let's attempt to train and test a Polarizer on reviews from the rightmost category of a product."
   ]
  },
  {
   "cell_type": "markdown",
   "metadata": {},
   "source": [
    "#### Select Category, get reviews"
   ]
  },
  {
   "cell_type": "code",
   "execution_count": 253,
   "metadata": {},
   "outputs": [],
   "source": [
    "# get asins from products in category\n",
    "query = metadata.find({\n",
    "    '$where': \"\"\"function() {return this.categories[0].includes(\"Hoses & Accessories\")}\"\"\",\n",
    "})\n",
    "\n",
    "asins = [r['asin'] for r in query]"
   ]
  },
  {
   "cell_type": "code",
   "execution_count": 254,
   "metadata": {},
   "outputs": [],
   "source": [
    "# get reviews from products in category\n",
    "cat_reviews = [r for r in reviews.find({'asin': {'$in': asins}})]"
   ]
  },
  {
   "cell_type": "code",
   "execution_count": 255,
   "metadata": {},
   "outputs": [
    {
     "data": {
      "text/plain": [
       "332"
      ]
     },
     "execution_count": 255,
     "metadata": {},
     "output_type": "execute_result"
    }
   ],
   "source": [
    "len(cat_reviews)"
   ]
  },
  {
   "cell_type": "markdown",
   "metadata": {},
   "source": [
    "#### Get occurance matrix, vocab"
   ]
  },
  {
   "cell_type": "code",
   "execution_count": 256,
   "metadata": {},
   "outputs": [],
   "source": [
    "# create occurance matrix, corpus vocabulary\n",
    "# NOTE: occurance matrix is term-document (rows are terms, columns are docs)\n",
    "occurrence_matrix = count_vectorizer.fit_transform((review['reviewText'] for review in cat_reviews)).transpose()\n",
    "vocab = count_vectorizer.get_feature_names()\n",
    "\n",
    "# get pos words\n",
    "with open('../data/positive-words.txt', errors='ignore') as f:\n",
    "    pos_words = [line.strip() for line in f.readlines() if ';' not in line]\n",
    "\n",
    "# get neg words\n",
    "with open('../data/negative-words.txt', errors='ignore') as f:\n",
    "    neg_words = [line.strip() for line in f.readlines() if ';' not in line]\n",
    "\n",
    "# filter pos and neg words\n",
    "pos_words = [w for w in pos_words if w in vocab]\n",
    "neg_words = [w for w in neg_words if w in vocab]\n",
    "\n",
    "# create polarizer\n",
    "pol = Polarizer(vocab, occurrence_matrix, pos_words, neg_words)"
   ]
  },
  {
   "cell_type": "code",
   "execution_count": 257,
   "metadata": {},
   "outputs": [],
   "source": [
    "# add polarity to category reviews\n",
    "# NOTE: For performance, should calculate PMI for all words in corpus. Eliminates need to calculate for every review\n",
    "for review in cat_reviews:\n",
    "    review['polarity'] = pol.get_document_polarity(review['reviewText'])"
   ]
  },
  {
   "cell_type": "code",
   "execution_count": 259,
   "metadata": {},
   "outputs": [
    {
     "name": "stdout",
     "output_type": "stream",
     "text": [
      "20 \t 0.0665 \t 1.0\n",
      "22 \t 0.0268 \t 1.0\n",
      "26 \t 0.1556 \t 2.0\n",
      "30 \t 0.0699 \t 1.0\n",
      "38 \t 0.0685 \t 2.0\n",
      "46 \t 0.0993 \t 2.0\n",
      "48 \t 0.0877 \t 2.0\n",
      "76 \t -0.0093 \t 1.0\n",
      "80 \t 0.0401 \t 1.0\n",
      "102 \t 0.0569 \t 1.0\n",
      "117 \t 0.0097 \t 1.0\n",
      "154 \t 0.0904 \t 2.0\n",
      "177 \t 0.0109 \t 1.0\n",
      "184 \t 0.1175 \t 2.0\n",
      "200 \t -0.103 \t 2.0\n",
      "202 \t 0.1891 \t 2.0\n",
      "203 \t 0.0417 \t 2.0\n",
      "302 \t 0.1892 \t 2.0\n",
      "309 \t 0.0332 \t 2.0\n",
      "311 \t -0.0726 \t 1.0\n",
      "322 \t 0.0951 \t 2.0\n",
      "324 \t -0.0289 \t 1.0\n",
      "325 \t 0.0262 \t 2.0\n",
      "326 \t 0.0754 \t 1.0\n",
      "327 \t 0.0227 \t 1.0\n",
      "330 \t 0.0756 \t 1.0\n"
     ]
    }
   ],
   "source": [
    "# examine polarity, rating for each review\n",
    "for i, review in enumerate(cat_reviews):\n",
    "    if review.get('polarity') and review['overall'] < 3.0:\n",
    "        print(i, '\\t', round(review.get('polarity'), 4), '\\t', review['overall'])"
   ]
  },
  {
   "cell_type": "code",
   "execution_count": 267,
   "metadata": {},
   "outputs": [],
   "source": [
    "import pandas as pd\n",
    "\n",
    "elements = [[r.get('polarity'), r.get('overall')] for r in cat_reviews]\n",
    "\n",
    "df = pd.DataFrame(elements,\n",
    "                  columns=['Polarity', 'Rating'])"
   ]
  },
  {
   "cell_type": "code",
   "execution_count": 272,
   "metadata": {},
   "outputs": [
    {
     "data": {
      "image/png": "[encoded data removed]",
      "text/plain": [
       "<Figure size 432x288 with 1 Axes>"
      ]
     },
     "metadata": {},
     "output_type": "display_data"
    }
   ],
   "source": [
    "import matplotlib\n",
    "\n",
    "%matplotlib inline\n",
    "matplotlib.pyplot.scatter(df.Rating, df.Polarity);"
   ]
  },
  {
   "cell_type": "code",
   "execution_count": 234,
   "metadata": {},
   "outputs": [
    {
     "data": {
      "text/plain": [
       "0.26422862321888685"
      ]
     },
     "execution_count": 234,
     "metadata": {},
     "output_type": "execute_result"
    }
   ],
   "source": [
    "pol.get_document_polarity(cat_reviews[131]['reviewText'])"
   ]
  },
  {
   "cell_type": "code",
   "execution_count": 245,
   "metadata": {},
   "outputs": [
    {
     "data": {
      "text/plain": [
       "0.16635546175943916"
      ]
     },
     "execution_count": 245,
     "metadata": {},
     "output_type": "execute_result"
    }
   ],
   "source": [
    "pol._get_word_polarity('good')"
   ]
  },
  {
   "cell_type": "code",
   "execution_count": 241,
   "metadata": {},
   "outputs": [],
   "source": [
    "test_words = [w.strip(string.punctuation).lower() for w in cat_reviews[131]['reviewText'].split()]"
   ]
  },
  {
   "cell_type": "code",
   "execution_count": 247,
   "metadata": {},
   "outputs": [
    {
     "name": "stdout",
     "output_type": "stream",
     "text": [
      "0.3607174563389643\n",
      "0.26328170307526066\n",
      "0.26328170307526066\n",
      "0.4045231393840245\n",
      "0.02933911422092403\n"
     ]
    }
   ],
   "source": [
    "for word in [w for w in test_words if w in vocab]:\n",
    "    print(pol._get_word_polarity(word))"
   ]
  },
  {
   "cell_type": "code",
   "execution_count": 248,
   "metadata": {},
   "outputs": [
    {
     "data": {
      "text/plain": [
       "['cheap', 'hard', 'leak', 'leaking', 'leaks', 'problem']"
      ]
     },
     "execution_count": 248,
     "metadata": {},
     "output_type": "execute_result"
    }
   ],
   "source": [
    "neg_words"
   ]
  },
  {
   "cell_type": "code",
   "execution_count": 249,
   "metadata": {},
   "outputs": [
    {
     "data": {
      "text/plain": [
       "['best',\n",
       " 'better',\n",
       " 'easier',\n",
       " 'easy',\n",
       " 'fine',\n",
       " 'free',\n",
       " 'good',\n",
       " 'great',\n",
       " 'like',\n",
       " 'love',\n",
       " 'nice',\n",
       " 'perfect',\n",
       " 'recommend',\n",
       " 'right',\n",
       " 'sturdy',\n",
       " 'work',\n",
       " 'works']"
      ]
     },
     "execution_count": 249,
     "metadata": {},
     "output_type": "execute_result"
    }
   ],
   "source": [
    "pos_words"
   ]
  },
  {
   "cell_type": "code",
   "execution_count": null,
   "metadata": {
    "collapsed": true
   },
   "outputs": [],
   "source": []
  }
 ],
 "metadata": {
  "kernelspec": {
   "display_name": "feature-extractor",
   "language": "python",
   "name": "feature-extractor"
  },
  "language_info": {
   "codemirror_mode": {
    "name": "ipython",
    "version": 3
   },
   "file_extension": ".py",
   "mimetype": "text/x-python",
   "name": "python",
   "nbconvert_exporter": "python",
   "pygments_lexer": "ipython3",
   "version": "3.6.3"
  }
 },
 "nbformat": 4,
 "nbformat_minor": 2
}
